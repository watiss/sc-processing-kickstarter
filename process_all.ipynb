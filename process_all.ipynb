{
 "cells": [
  {
   "cell_type": "markdown",
   "metadata": {},
   "source": [
    "## Imports"
   ]
  },
  {
   "cell_type": "code",
   "execution_count": null,
   "metadata": {},
   "outputs": [],
   "source": [
    "import scanpy as sc\n",
    "import anndata\n",
    "from anndata import AnnData\n",
    "import pandas as pd\n",
    "import numpy as np\n",
    "import matplotlib.pyplot as plt\n",
    "import seaborn as sns\n",
    "import gc\n",
    "import scvi\n",
    "import shutil\n",
    "from utils import *\n",
    "import mplscience\n",
    "\n",
    "# plotting command for the styling\n",
    "sns.reset_orig()"
   ]
  },
  {
   "cell_type": "markdown",
   "metadata": {},
   "source": [
    "## Align libraries\n",
    "👉 align_libraries.py"
   ]
  },
  {
   "cell_type": "markdown",
   "metadata": {},
   "source": [
    "## Process libraries\n",
    "👉 process_libraries.py"
   ]
  },
  {
   "cell_type": "markdown",
   "metadata": {},
   "source": [
    "## Integrate libraries\n",
    "👉 integrate_libraries.py"
   ]
  },
  {
   "cell_type": "markdown",
   "metadata": {},
   "source": [
    "## Visualization & Analysis"
   ]
  },
  {
   "cell_type": "markdown",
   "metadata": {},
   "source": [
    "Here are some things that you could do with your integrated data."
   ]
  },
  {
   "cell_type": "code",
   "execution_count": null,
   "metadata": {},
   "outputs": [],
   "source": [
    "# TODO Provide the ful path to the integrated data\n",
    "adata = anndata.read_h5ad(\"your_absolute_path_to_the_integrated_data.h5ad\")\n",
    "\n",
    "# put total counts on log scale for visualization\n",
    "adata.obs[\"log_total_count\"] = np.log1p(adata.obs[\"total_counts\"])"
   ]
  },
  {
   "cell_type": "code",
   "execution_count": null,
   "metadata": {},
   "outputs": [],
   "source": [
    "adata"
   ]
  },
  {
   "cell_type": "markdown",
   "metadata": {},
   "source": [
    "We can start by visualizing the scvi-generated UMAP (and the PCA-generated one, which is not batch corrected, if you want).  \n",
    "If all went well, in theory we should see good batch mixing (thanks to batch effect correction) with scvi."
   ]
  },
  {
   "cell_type": "code",
   "execution_count": null,
   "metadata": {},
   "outputs": [],
   "source": [
    "with mplscience.style_context():\n",
    "    adata.obsm[\"X_umap\"] = adata.obsm[\"X_umap_pca\"]\n",
    "    sc.pl.umap(adata, color=[\"library_id\", \"log_total_count\"], wspace=0.5)\n",
    "    adata.obsm[\"X_umap\"] = adata.obsm[\"X_umap_scvi\"]\n",
    "    sc.pl.umap(adata, color=[\"library_id\", \"log_total_count\"], wspace=0.5)"
   ]
  },
  {
   "cell_type": "code",
   "execution_count": null,
   "metadata": {},
   "outputs": [],
   "source": [
    "# Visualize leiden clusters computed on the scvi latent space\n",
    "sc.pl.umap(adata, color = \"scvi_leiden\")"
   ]
  },
  {
   "cell_type": "markdown",
   "metadata": {},
   "source": [
    "Next you might want to run differential expression (with scvi or scanpy) to find marker genes for each scvi leiden cluster in your dataset.  \n",
    "- scvi DE tutorial: https://docs.scvi-tools.org/en/stable/tutorials/notebooks/api_overview.html#Differential-expression\n",
    "- scanpy DE tutorial: https://scanpy-tutorials.readthedocs.io/en/latest/pbmc3k.html#Finding-marker-genes"
   ]
  }
 ],
 "metadata": {
  "kernelspec": {
   "display_name": "Python 3.10.6 64-bit",
   "language": "python",
   "name": "python3"
  },
  "language_info": {
   "codemirror_mode": {
    "name": "ipython",
    "version": 3
   },
   "file_extension": ".py",
   "mimetype": "text/x-python",
   "name": "python",
   "nbconvert_exporter": "python",
   "pygments_lexer": "ipython3",
   "version": "3.10.6"
  },
  "orig_nbformat": 4,
  "vscode": {
   "interpreter": {
    "hash": "b0fa6594d8f4cbf19f97940f81e996739fb7646882a419484c72d19e05852a7e"
   }
  }
 },
 "nbformat": 4,
 "nbformat_minor": 2
}
